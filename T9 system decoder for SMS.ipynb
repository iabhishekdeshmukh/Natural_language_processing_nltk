{
 "cells": [
  {
   "cell_type": "markdown",
   "metadata": {},
   "source": [
    "### T9 system decoder for SMS"
   ]
  },
  {
   "cell_type": "markdown",
   "metadata": {},
   "source": [
    "The T9 system is used for entering text on old mobile phones. Two or more words that are entered with the same sequence of keystrokes are known as textonyms. For example, both “hole” and\n",
    "“golf” are entered by pressing the sequence “4653”. So, frequency of that word is used as tie breaker."
   ]
  },
  {
   "cell_type": "markdown",
   "metadata": {},
   "source": [
    "For this, I have selected webtext corpus from nltk library. Because, as we are going to decode SMS, we need informal words corpus with words from discussion forums or chats."
   ]
  },
  {
   "cell_type": "code",
   "execution_count": 7,
   "metadata": {},
   "outputs": [],
   "source": [
    "import nltk\n",
    "import re\n",
    "dictionary=nltk.corpus.webtext.words()"
   ]
  },
  {
   "cell_type": "code",
   "execution_count": 4,
   "metadata": {},
   "outputs": [],
   "source": [
    "#mapping scheme:\n",
    "map_digits={\"2\":\"abc\",\n",
    "      \"3\":\"def\",\n",
    "     \"4\":\"ghi\",\n",
    "     \"5\":\"jkl\",\n",
    "     \"6\":\"mno\",\n",
    "     \"7\":\"pqrs\",\n",
    "     \"8\":\"tuv\",\n",
    "     \"9\":\"wxyz\"} #dictionary with number as a key and character set as value."
   ]
  },
  {
   "cell_type": "code",
   "execution_count": 5,
   "metadata": {},
   "outputs": [],
   "source": [
    "def get_t9_word(digits,dictionary):\n",
    "    map_digits={\"2\":\"abc\",\n",
    "      \"3\":\"def\",\n",
    "     \"4\":\"ghi\",\n",
    "     \"5\":\"jkl\",\n",
    "     \"6\":\"mno\",\n",
    "     \"7\":\"pqrs\",\n",
    "     \"8\":\"tuv\",\n",
    "     \"9\":\"wxyz\"} #declared mapping scheme from digit to word\n",
    "    templist=[\"^\"]\n",
    "    for digit in list(digits):  #loop will create pattern to match against each word in corpus\n",
    "        templist.append(\"[\")\n",
    "        templist.append(map_digits[digit])\n",
    "        templist.append(\"]\")\n",
    "    templist.append(\"$\")    \n",
    "    pattern=\"\".join(templist)\n",
    "    temp=[word for word in dictionary if re.search(pattern,word)] #Find all words with matching pattern\n",
    "    freq=nltk.FreqDist(word for word in temp) #Find out frequency distribution of matching words\n",
    "    detected_word=[word for (word,frequency) in freq.most_common(1)] #Find most common word i.e. highest frequency word\n",
    "    print(digits,\"--->\",detected_word[0])"
   ]
  },
  {
   "cell_type": "code",
   "execution_count": 9,
   "metadata": {},
   "outputs": [
    {
     "name": "stdout",
     "output_type": "stream",
     "text": [
      "words:\n",
      "273253278 ---> breakfast\n",
      "78674463 ---> sunshine\n",
      "53276 ---> learn\n",
      "3333 ---> feed\n",
      "\n",
      " Words in sentence 1:\n",
      "4663 ---> good\n",
      "6676464 ---> morning\n",
      "469 ---> how\n",
      "927 ---> was\n",
      "9687 ---> your\n",
      "25277 ---> class\n"
     ]
    }
   ],
   "source": [
    "print(\"words:\")\n",
    "get_t9_word('273253278',dictionary)\n",
    "get_t9_word('78674463',dictionary)\n",
    "get_t9_word('53276',dictionary)\n",
    "get_t9_word('3333',dictionary)   #Modified to 3333 from 33333, because there was no word for 33333 in the corpus\n",
    "\n",
    "print(\"\\n Words in sentence 1:\")\n",
    "sentence1=['4663','6676464','469','927','9687','25277']\n",
    "for digits in sentence1:\n",
    "    get_t9_word(digits,dictionary)"
   ]
  }
 ],
 "metadata": {
  "kernelspec": {
   "display_name": "Python 3",
   "language": "python",
   "name": "python3"
  },
  "language_info": {
   "codemirror_mode": {
    "name": "ipython",
    "version": 3
   },
   "file_extension": ".py",
   "mimetype": "text/x-python",
   "name": "python",
   "nbconvert_exporter": "python",
   "pygments_lexer": "ipython3",
   "version": "3.7.7"
  }
 },
 "nbformat": 4,
 "nbformat_minor": 4
}
